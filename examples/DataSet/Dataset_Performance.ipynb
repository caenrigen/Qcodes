{
 "cells": [
  {
   "cell_type": "markdown",
   "metadata": {},
   "source": [
    "# DataSet Performance\n",
    "\n",
    "This notebook shows the trade-off between inserting data into a database row-by-row and as binary blobs. Inserting the data row-by-row means that we have direct access to all the data and may perform queries directly on the values of the data. On the other hand, as we shall see, this is much slower than inserting the data directly as binary blobs."
   ]
  },
  {
   "cell_type": "markdown",
   "metadata": {},
   "source": [
    "First, we choose a new location for the database to ensure that we don't add a bunch of benchmarking data to the default one."
   ]
  },
  {
   "cell_type": "code",
   "execution_count": 1,
   "metadata": {
    "execution": {
     "iopub.execute_input": "2021-10-31T20:27:26.304947Z",
     "iopub.status.busy": "2021-10-31T20:27:26.304238Z",
     "iopub.status.idle": "2021-10-31T20:27:27.738097Z",
     "shell.execute_reply": "2021-10-31T20:27:27.738635Z"
    }
   },
   "outputs": [
    {
     "name": "stdout",
     "output_type": "stream",
     "text": [
      "Logging hadn't been started.\n",
      "Activating auto-logging. Current session state plus future input saved.\n",
      "Filename       : /home/runner/.qcodes/logs/command_history.log\n",
      "Mode           : append\n",
      "Output logging : True\n",
      "Raw input log  : False\n",
      "Timestamping   : True\n",
      "State          : active\n"
     ]
    },
    {
     "name": "stdout",
     "output_type": "stream",
     "text": [
      "Qcodes Logfile : /home/runner/.qcodes/logs/211031-4582-qcodes.log\n"
     ]
    }
   ],
   "source": [
    "import os\n",
    "cwd = os.getcwd()\n",
    "import qcodes as qc\n",
    "qc.config[\"core\"][\"db_location\"] = os.path.join(cwd, 'testing.db')\n"
   ]
  },
  {
   "cell_type": "code",
   "execution_count": 2,
   "metadata": {
    "execution": {
     "iopub.execute_input": "2021-10-31T20:27:27.747663Z",
     "iopub.status.busy": "2021-10-31T20:27:27.746960Z",
     "iopub.status.idle": "2021-10-31T20:27:28.109359Z",
     "shell.execute_reply": "2021-10-31T20:27:28.108737Z"
    }
   },
   "outputs": [],
   "source": [
    "%matplotlib inline\n",
    "import time\n",
    "import matplotlib.pyplot as plt\n",
    "import numpy as np\n",
    "\n",
    "import qcodes as qc\n",
    "from qcodes.instrument.parameter import ManualParameter\n",
    "from qcodes.dataset.experiment_container import (Experiment,\n",
    "                                                 load_last_experiment,\n",
    "                                                 new_experiment)\n",
    "from qcodes.dataset.sqlite.database import initialise_database\n",
    "from qcodes import load_or_create_experiment\n",
    "from qcodes.dataset.measurements import Measurement"
   ]
  },
  {
   "cell_type": "code",
   "execution_count": 3,
   "metadata": {
    "execution": {
     "iopub.execute_input": "2021-10-31T20:27:28.114043Z",
     "iopub.status.busy": "2021-10-31T20:27:28.113266Z",
     "iopub.status.idle": "2021-10-31T20:27:28.216647Z",
     "shell.execute_reply": "2021-10-31T20:27:28.216061Z"
    }
   },
   "outputs": [
    {
     "name": "stdout",
     "output_type": "stream",
     "text": [
      "\r",
      "0it [00:00, ?it/s]"
     ]
    },
    {
     "name": "stdout",
     "output_type": "stream",
     "text": [
      "\r",
      "Upgrading database; v0 -> v1: : 0it [00:00, ?it/s]"
     ]
    },
    {
     "name": "stdout",
     "output_type": "stream",
     "text": [
      "\r",
      "Upgrading database; v0 -> v1: : 0it [00:00, ?it/s]"
     ]
    },
    {
     "name": "stdout",
     "output_type": "stream",
     "text": [
      "\n"
     ]
    },
    {
     "name": "stdout",
     "output_type": "stream",
     "text": [
      "\r",
      "  0%|          | 0/1 [00:00<?, ?it/s]"
     ]
    },
    {
     "name": "stdout",
     "output_type": "stream",
     "text": [
      "\r",
      "Upgrading database; v1 -> v2:   0%|          | 0/1 [00:00<?, ?it/s]"
     ]
    },
    {
     "name": "stdout",
     "output_type": "stream",
     "text": [
      "\r",
      "Upgrading database; v1 -> v2: 100%|██████████| 1/1 [00:00<00:00, 689.06it/s]"
     ]
    },
    {
     "name": "stdout",
     "output_type": "stream",
     "text": [
      "\n"
     ]
    },
    {
     "name": "stdout",
     "output_type": "stream",
     "text": [
      "\r",
      "0it [00:00, ?it/s]"
     ]
    },
    {
     "name": "stdout",
     "output_type": "stream",
     "text": [
      "\r",
      "Upgrading database; v2 -> v3: : 0it [00:00, ?it/s]"
     ]
    },
    {
     "name": "stdout",
     "output_type": "stream",
     "text": [
      "\r",
      "Upgrading database; v2 -> v3: : 0it [00:00, ?it/s]"
     ]
    },
    {
     "name": "stdout",
     "output_type": "stream",
     "text": [
      "\n"
     ]
    },
    {
     "name": "stdout",
     "output_type": "stream",
     "text": [
      "\r",
      "0it [00:00, ?it/s]"
     ]
    },
    {
     "name": "stdout",
     "output_type": "stream",
     "text": [
      "\r",
      "Upgrading database; v3 -> v4: : 0it [00:00, ?it/s]"
     ]
    },
    {
     "name": "stdout",
     "output_type": "stream",
     "text": [
      "\r",
      "Upgrading database; v3 -> v4: : 0it [00:00, ?it/s]"
     ]
    },
    {
     "name": "stdout",
     "output_type": "stream",
     "text": [
      "\n"
     ]
    },
    {
     "name": "stdout",
     "output_type": "stream",
     "text": [
      "\r",
      "  0%|          | 0/1 [00:00<?, ?it/s]"
     ]
    },
    {
     "name": "stdout",
     "output_type": "stream",
     "text": [
      "\r",
      "Upgrading database; v4 -> v5:   0%|          | 0/1 [00:00<?, ?it/s]"
     ]
    },
    {
     "name": "stdout",
     "output_type": "stream",
     "text": [
      "\r",
      "Upgrading database; v4 -> v5: 100%|██████████| 1/1 [00:00<00:00, 774.00it/s]"
     ]
    },
    {
     "name": "stdout",
     "output_type": "stream",
     "text": [
      "\n"
     ]
    },
    {
     "name": "stdout",
     "output_type": "stream",
     "text": [
      "\r",
      "0it [00:00, ?it/s]"
     ]
    },
    {
     "name": "stdout",
     "output_type": "stream",
     "text": [
      "\r",
      "Upgrading database; v5 -> v6: : 0it [00:00, ?it/s]"
     ]
    },
    {
     "name": "stdout",
     "output_type": "stream",
     "text": [
      "\r",
      "Upgrading database; v5 -> v6: : 0it [00:00, ?it/s]"
     ]
    },
    {
     "name": "stdout",
     "output_type": "stream",
     "text": [
      "\n"
     ]
    },
    {
     "name": "stdout",
     "output_type": "stream",
     "text": [
      "\r",
      "  0%|          | 0/1 [00:00<?, ?it/s]"
     ]
    },
    {
     "name": "stdout",
     "output_type": "stream",
     "text": [
      "\r",
      "Upgrading database; v6 -> v7:   0%|          | 0/1 [00:00<?, ?it/s]"
     ]
    },
    {
     "name": "stdout",
     "output_type": "stream",
     "text": [
      "\r",
      "Upgrading database; v6 -> v7: 100%|██████████| 1/1 [00:00<00:00, 294.28it/s]"
     ]
    },
    {
     "name": "stdout",
     "output_type": "stream",
     "text": [
      "\n"
     ]
    },
    {
     "name": "stdout",
     "output_type": "stream",
     "text": [
      "\r",
      "  0%|          | 0/1 [00:00<?, ?it/s]"
     ]
    },
    {
     "name": "stdout",
     "output_type": "stream",
     "text": [
      "\r",
      "Upgrading database; v7 -> v8:   0%|          | 0/1 [00:00<?, ?it/s]"
     ]
    },
    {
     "name": "stdout",
     "output_type": "stream",
     "text": [
      "\r",
      "Upgrading database; v7 -> v8: 100%|██████████| 1/1 [00:00<00:00, 893.93it/s]"
     ]
    },
    {
     "name": "stdout",
     "output_type": "stream",
     "text": [
      "\n"
     ]
    },
    {
     "name": "stdout",
     "output_type": "stream",
     "text": [
      "\r",
      "  0%|          | 0/1 [00:00<?, ?it/s]"
     ]
    },
    {
     "name": "stdout",
     "output_type": "stream",
     "text": [
      "\r",
      "Upgrading database; v8 -> v9:   0%|          | 0/1 [00:00<?, ?it/s]"
     ]
    },
    {
     "name": "stdout",
     "output_type": "stream",
     "text": [
      "\r",
      "Upgrading database; v8 -> v9: 100%|██████████| 1/1 [00:00<00:00, 395.17it/s]"
     ]
    },
    {
     "name": "stdout",
     "output_type": "stream",
     "text": [
      "\n"
     ]
    }
   ],
   "source": [
    "initialise_database()\n",
    "exp = load_or_create_experiment(experiment_name='tutorial_exp', sample_name=\"no sample\")"
   ]
  },
  {
   "cell_type": "markdown",
   "metadata": {},
   "source": [
    "Here, we define a simple function to benchmark the time it takes to insert n points with either numeric or array data type.\n",
    "We will compare both the time used to call ``add_result`` and the time used for the full measurement."
   ]
  },
  {
   "cell_type": "code",
   "execution_count": 4,
   "metadata": {
    "execution": {
     "iopub.execute_input": "2021-10-31T20:27:28.220240Z",
     "iopub.status.busy": "2021-10-31T20:27:28.219518Z",
     "iopub.status.idle": "2021-10-31T20:27:28.229326Z",
     "shell.execute_reply": "2021-10-31T20:27:28.229871Z"
    }
   },
   "outputs": [],
   "source": [
    "def insert_data(paramtype, npoints, nreps=1):\n",
    "\n",
    "    meas = Measurement(exp=exp)\n",
    "\n",
    "    x1 = ManualParameter('x1')\n",
    "    x2 = ManualParameter('x2')\n",
    "    x3 = ManualParameter('x3')\n",
    "    y1 = ManualParameter('y1')\n",
    "    y2 = ManualParameter('y2')\n",
    "\n",
    "    meas.register_parameter(x1, paramtype=paramtype)\n",
    "    meas.register_parameter(x2, paramtype=paramtype)\n",
    "    meas.register_parameter(x3, paramtype=paramtype)\n",
    "    meas.register_parameter(y1, setpoints=[x1, x2, x3],\n",
    "                            paramtype=paramtype)\n",
    "    meas.register_parameter(y2, setpoints=[x1, x2, x3],\n",
    "                            paramtype=paramtype)\n",
    "    start = time.perf_counter()\n",
    "    with meas.run() as datasaver:\n",
    "        start_adding = time.perf_counter()\n",
    "        for i in range(nreps):\n",
    "            datasaver.add_result((x1, np.random.rand(npoints)),\n",
    "                                 (x2, np.random.rand(npoints)),\n",
    "                                 (x3, np.random.rand(npoints)),\n",
    "                                 (y1, np.random.rand(npoints)),\n",
    "                                 (y2, np.random.rand(npoints)))\n",
    "        stop_adding = time.perf_counter()\n",
    "        run_id = datasaver.run_id\n",
    "    stop = time.perf_counter()\n",
    "    tot_time = stop - start\n",
    "    add_time = stop_adding - start_adding\n",
    "    return tot_time, add_time, run_id"
   ]
  },
  {
   "cell_type": "markdown",
   "metadata": {},
   "source": [
    "## Comparison between numeric/array data and binary blob"
   ]
  },
  {
   "cell_type": "markdown",
   "metadata": {},
   "source": [
    "### Case1: Short experiment time"
   ]
  },
  {
   "cell_type": "code",
   "execution_count": 5,
   "metadata": {
    "execution": {
     "iopub.execute_input": "2021-10-31T20:27:28.233192Z",
     "iopub.status.busy": "2021-10-31T20:27:28.232509Z",
     "iopub.status.idle": "2021-10-31T20:27:29.243213Z",
     "shell.execute_reply": "2021-10-31T20:27:29.242647Z"
    }
   },
   "outputs": [
    {
     "name": "stdout",
     "output_type": "stream",
     "text": [
      "Starting experimental run with id: 1. \n",
      "Starting experimental run with id: 2. \n",
      "Starting experimental run with id: 3. \n"
     ]
    },
    {
     "name": "stdout",
     "output_type": "stream",
     "text": [
      "Starting experimental run with id: 4. \n"
     ]
    },
    {
     "name": "stdout",
     "output_type": "stream",
     "text": [
      "Starting experimental run with id: 5. \n"
     ]
    },
    {
     "name": "stdout",
     "output_type": "stream",
     "text": [
      "Starting experimental run with id: 6. \n",
      "Starting experimental run with id: 7. \n"
     ]
    },
    {
     "name": "stdout",
     "output_type": "stream",
     "text": [
      "Starting experimental run with id: 8. \n"
     ]
    },
    {
     "name": "stdout",
     "output_type": "stream",
     "text": [
      "Starting experimental run with id: 9. \n"
     ]
    },
    {
     "name": "stdout",
     "output_type": "stream",
     "text": [
      "Starting experimental run with id: 10. \n",
      "Starting experimental run with id: 11. \n"
     ]
    },
    {
     "name": "stdout",
     "output_type": "stream",
     "text": [
      "Starting experimental run with id: 12. \n",
      "Starting experimental run with id: 13. \n"
     ]
    },
    {
     "name": "stdout",
     "output_type": "stream",
     "text": [
      "Starting experimental run with id: 14. \n"
     ]
    }
   ],
   "source": [
    "sizes = [1,500,1000,2000,3000,4000,5000]\n",
    "t_numeric = []\n",
    "t_numeric_add = []\n",
    "t_array = []\n",
    "t_array_add = []\n",
    "for size in sizes:\n",
    "    tn, tna, run_id_n =  insert_data('numeric', size)\n",
    "    t_numeric.append(tn)\n",
    "    t_numeric_add.append(tna)\n",
    "\n",
    "    ta, taa, run_id_a =  insert_data('array', size)\n",
    "    t_array.append(ta)\n",
    "    t_array_add.append(taa)"
   ]
  },
  {
   "cell_type": "code",
   "execution_count": 6,
   "metadata": {
    "execution": {
     "iopub.execute_input": "2021-10-31T20:27:29.297101Z",
     "iopub.status.busy": "2021-10-31T20:27:29.289638Z",
     "iopub.status.idle": "2021-10-31T20:27:29.526074Z",
     "shell.execute_reply": "2021-10-31T20:27:29.526569Z"
    }
   },
   "outputs": [
    {
     "data": {
      "image/png": "[encoded data removed]",
      "text/plain": [
       "<Figure size 432x288 with 1 Axes>"
      ]
     },
     "metadata": {
      "needs_background": "light"
     },
     "output_type": "display_data"
    }
   ],
   "source": [
    "fig, ax = plt.subplots(1,1)\n",
    "ax.plot(sizes, t_numeric, 'o-', label='Inserting row-by-row')\n",
    "ax.plot(sizes, t_numeric_add, 'o-', label='Inserting row-by-row: add_result only')\n",
    "ax.plot(sizes, t_array, 'd-', label='Inserting as binary blob')\n",
    "ax.plot(sizes, t_array_add, 'd-', label='Inserting as binary blob: add_result only')\n",
    "ax.legend()\n",
    "ax.set_xlabel('Array length')\n",
    "ax.set_ylabel('Time (s)')\n",
    "fig.tight_layout()"
   ]
  },
  {
   "cell_type": "markdown",
   "metadata": {},
   "source": [
    "As shown in the latter figure, the time to setup and and close the experiment is approximately 0.4 sec. In case of small array sizes, the difference between inserting values of data as arrays and inserting them row-by-row is relatively unimportant. At larger array sizes, i.e. above 10000 points, the cost of writing data as individual datapoints starts to become important.\n"
   ]
  },
  {
   "cell_type": "markdown",
   "metadata": {},
   "source": [
    "### Case2: Long experiment time "
   ]
  },
  {
   "cell_type": "code",
   "execution_count": 7,
   "metadata": {
    "execution": {
     "iopub.execute_input": "2021-10-31T20:27:29.535203Z",
     "iopub.status.busy": "2021-10-31T20:27:29.534311Z",
     "iopub.status.idle": "2021-10-31T20:28:33.544181Z",
     "shell.execute_reply": "2021-10-31T20:28:33.543366Z"
    }
   },
   "outputs": [
    {
     "name": "stdout",
     "output_type": "stream",
     "text": [
      "Starting experimental run with id: 15. \n",
      "Starting experimental run with id: 16. \n",
      "Starting experimental run with id: 17. \n"
     ]
    },
    {
     "name": "stdout",
     "output_type": "stream",
     "text": [
      "Starting experimental run with id: 18. \n",
      "Starting experimental run with id: 19. \n"
     ]
    },
    {
     "name": "stdout",
     "output_type": "stream",
     "text": [
      "Starting experimental run with id: 20. \n",
      "Starting experimental run with id: 21. \n"
     ]
    },
    {
     "name": "stdout",
     "output_type": "stream",
     "text": [
      "Starting experimental run with id: 22. \n"
     ]
    },
    {
     "name": "stdout",
     "output_type": "stream",
     "text": [
      "Starting experimental run with id: 23. \n"
     ]
    },
    {
     "name": "stdout",
     "output_type": "stream",
     "text": [
      "Starting experimental run with id: 24. \n"
     ]
    },
    {
     "name": "stdout",
     "output_type": "stream",
     "text": [
      "Starting experimental run with id: 25. \n"
     ]
    },
    {
     "name": "stdout",
     "output_type": "stream",
     "text": [
      "Starting experimental run with id: 26. \n"
     ]
    },
    {
     "name": "stdout",
     "output_type": "stream",
     "text": [
      "Starting experimental run with id: 27. \n"
     ]
    },
    {
     "name": "stdout",
     "output_type": "stream",
     "text": [
      "Starting experimental run with id: 28. \n"
     ]
    }
   ],
   "source": [
    "sizes = [1,500,1000,2000,3000,4000,5000]\n",
    "nreps = 100\n",
    "t_numeric = []\n",
    "t_numeric_add = []\n",
    "t_numeric_run_ids = []\n",
    "t_array = []\n",
    "t_array_add = []\n",
    "t_array_run_ids = []\n",
    "for size in sizes:\n",
    "    tn, tna, run_id_n =  insert_data('numeric', size, nreps=nreps)\n",
    "    t_numeric.append(tn)\n",
    "    t_numeric_add.append(tna)\n",
    "    t_numeric_run_ids.append(run_id_n)\n",
    "\n",
    "    ta, taa, run_id_a =  insert_data('array', size, nreps=nreps)\n",
    "    t_array.append(ta)\n",
    "    t_array_add.append(taa)\n",
    "    t_array_run_ids.append(run_id_a)"
   ]
  },
  {
   "cell_type": "code",
   "execution_count": 8,
   "metadata": {
    "execution": {
     "iopub.execute_input": "2021-10-31T20:28:33.564884Z",
     "iopub.status.busy": "2021-10-31T20:28:33.556724Z",
     "iopub.status.idle": "2021-10-31T20:28:33.819574Z",
     "shell.execute_reply": "2021-10-31T20:28:33.820103Z"
    },
    "scrolled": true
   },
   "outputs": [
    {
     "data": {
      "image/png": "[encoded data removed]",
      "text/plain": [
       "<Figure size 432x288 with 1 Axes>"
      ]
     },
     "metadata": {
      "needs_background": "light"
     },
     "output_type": "display_data"
    }
   ],
   "source": [
    "fig, ax = plt.subplots(1,1)\n",
    "ax.plot(sizes, t_numeric, 'o-', label='Inserting row-by-row')\n",
    "ax.plot(sizes, t_numeric_add, 'o-', label='Inserting row-by-row: add_result only')\n",
    "ax.plot(sizes, t_array, 'd-', label='Inserting as binary blob')\n",
    "ax.plot(sizes, t_array_add, 'd-', label='Inserting as binary blob: add_result only')\n",
    "ax.legend()\n",
    "ax.set_xlabel('Array length')\n",
    "ax.set_ylabel('Time (s)')\n",
    "fig.tight_layout()"
   ]
  },
  {
   "cell_type": "markdown",
   "metadata": {},
   "source": [
    "However, as we increase the length of the experiment, as seen here by repeating the insertion 100 times, we see a big difference between inserting values of the data row-by-row and inserting it as a binary blob."
   ]
  },
  {
   "cell_type": "markdown",
   "metadata": {},
   "source": [
    "## Loading the data "
   ]
  },
  {
   "cell_type": "code",
   "execution_count": 9,
   "metadata": {
    "execution": {
     "iopub.execute_input": "2021-10-31T20:28:33.825018Z",
     "iopub.status.busy": "2021-10-31T20:28:33.824318Z",
     "iopub.status.idle": "2021-10-31T20:28:33.828232Z",
     "shell.execute_reply": "2021-10-31T20:28:33.828775Z"
    }
   },
   "outputs": [],
   "source": [
    "from qcodes.dataset.data_set import load_by_id"
   ]
  },
  {
   "cell_type": "markdown",
   "metadata": {},
   "source": [
    "As usual you can load the data by using the ``load_by_id`` function but you will notice that the different storage methods\n",
    "are reflected in shape of the data as it is retrieved. "
   ]
  },
  {
   "cell_type": "code",
   "execution_count": 10,
   "metadata": {
    "execution": {
     "iopub.execute_input": "2021-10-31T20:28:33.834444Z",
     "iopub.status.busy": "2021-10-31T20:28:33.832794Z",
     "iopub.status.idle": "2021-10-31T20:28:33.835152Z",
     "shell.execute_reply": "2021-10-31T20:28:33.835692Z"
    }
   },
   "outputs": [],
   "source": [
    "run_id_n = t_numeric_run_ids[0]\n",
    "run_id_a = t_array_run_ids[0]"
   ]
  },
  {
   "cell_type": "code",
   "execution_count": 11,
   "metadata": {
    "execution": {
     "iopub.execute_input": "2021-10-31T20:28:33.840010Z",
     "iopub.status.busy": "2021-10-31T20:28:33.839369Z",
     "iopub.status.idle": "2021-10-31T20:28:33.850297Z",
     "shell.execute_reply": "2021-10-31T20:28:33.850838Z"
    },
    "scrolled": true
   },
   "outputs": [
    {
     "data": {
      "text/plain": [
       "{'x1': {'x1': array([0.84496988, 0.84496988, 0.51055436, 0.51055436, 0.18603758,\n",
       "         0.18603758, 0.65516096, 0.65516096, 0.81981499, 0.81981499,\n",
       "         0.29383425, 0.29383425, 0.50705387, 0.50705387, 0.46619697,\n",
       "         0.46619697, 0.01275336, 0.01275336, 0.01987718, 0.01987718,\n",
       "         0.69038682, 0.69038682, 0.64872465, 0.64872465, 0.20052737,\n",
       "         0.20052737, 0.65062618, 0.65062618, 0.55516352, 0.55516352,\n",
       "         0.0288666 , 0.0288666 , 0.52069386, 0.52069386, 0.13329602,\n",
       "         0.13329602, 0.61010888, 0.61010888, 0.60854123, 0.60854123,\n",
       "         0.01355481, 0.01355481, 0.6973086 , 0.6973086 , 0.09315064,\n",
       "         0.09315064, 0.50640127, 0.50640127, 0.70423207, 0.70423207,\n",
       "         0.41285123, 0.41285123, 0.17280122, 0.17280122, 0.39396264,\n",
       "         0.39396264, 0.59624594, 0.59624594, 0.89567502, 0.89567502,\n",
       "         0.15402184, 0.15402184, 0.10490205, 0.10490205, 0.37407774,\n",
       "         0.37407774, 0.44094   , 0.44094   , 0.72849269, 0.72849269,\n",
       "         0.33265727, 0.33265727, 0.933613  , 0.933613  , 0.79254156,\n",
       "         0.79254156, 0.96997517, 0.96997517, 0.07054858, 0.07054858,\n",
       "         0.53224166, 0.53224166, 0.8517284 , 0.8517284 , 0.60364765,\n",
       "         0.60364765, 0.1253979 , 0.1253979 , 0.93989198, 0.93989198,\n",
       "         0.39863078, 0.39863078, 0.14325107, 0.14325107, 0.25513603,\n",
       "         0.25513603, 0.93863156, 0.93863156, 0.40251507, 0.40251507,\n",
       "         0.21882619, 0.21882619, 0.54557458, 0.54557458, 0.28007532,\n",
       "         0.28007532, 0.83929088, 0.83929088, 0.11144142, 0.11144142,\n",
       "         0.6487073 , 0.6487073 , 0.04824839, 0.04824839, 0.34741221,\n",
       "         0.34741221, 0.69596365, 0.69596365, 0.89166076, 0.89166076,\n",
       "         0.01939577, 0.01939577, 0.39517651, 0.39517651, 0.00658469,\n",
       "         0.00658469, 0.12030421, 0.12030421, 0.4964068 , 0.4964068 ,\n",
       "         0.56700529, 0.56700529, 0.27882532, 0.27882532, 0.69303504,\n",
       "         0.69303504, 0.15452608, 0.15452608, 0.44921965, 0.44921965,\n",
       "         0.45783038, 0.45783038, 0.93367501, 0.93367501, 0.05103143,\n",
       "         0.05103143, 0.5381635 , 0.5381635 , 0.73471801, 0.73471801,\n",
       "         0.5636773 , 0.5636773 , 0.5160066 , 0.5160066 , 0.62579905,\n",
       "         0.62579905, 0.81564868, 0.81564868, 0.65972487, 0.65972487,\n",
       "         0.57957837, 0.57957837, 0.49076374, 0.49076374, 0.92688722,\n",
       "         0.92688722, 0.68423023, 0.68423023, 0.02643011, 0.02643011,\n",
       "         0.46042847, 0.46042847, 0.48326255, 0.48326255, 0.44909447,\n",
       "         0.44909447, 0.38576024, 0.38576024, 0.66293647, 0.66293647,\n",
       "         0.83448639, 0.83448639, 0.1807742 , 0.1807742 , 0.439968  ,\n",
       "         0.439968  , 0.30895553, 0.30895553, 0.22489574, 0.22489574,\n",
       "         0.73015618, 0.73015618, 0.38528582, 0.38528582, 0.4695284 ,\n",
       "         0.4695284 , 0.66688848, 0.66688848, 0.31490328, 0.31490328])}}"
      ]
     },
     "execution_count": 11,
     "metadata": {},
     "output_type": "execute_result"
    }
   ],
   "source": [
    "ds = load_by_id(run_id_n)\n",
    "ds.get_parameter_data('x1')"
   ]
  },
  {
   "cell_type": "markdown",
   "metadata": {},
   "source": [
    "And a dataset stored as binary arrays"
   ]
  },
  {
   "cell_type": "code",
   "execution_count": 12,
   "metadata": {
    "execution": {
     "iopub.execute_input": "2021-10-31T20:28:33.854919Z",
     "iopub.status.busy": "2021-10-31T20:28:33.854276Z",
     "iopub.status.idle": "2021-10-31T20:28:33.919277Z",
     "shell.execute_reply": "2021-10-31T20:28:33.919829Z"
    },
    "scrolled": true
   },
   "outputs": [
    {
     "data": {
      "text/plain": [
       "{'x1': {'x1': array([[0.40183384],\n",
       "         [0.40183384],\n",
       "         [0.22362028],\n",
       "         [0.22362028],\n",
       "         [0.13862591],\n",
       "         [0.13862591],\n",
       "         [0.17512869],\n",
       "         [0.17512869],\n",
       "         [0.31549994],\n",
       "         [0.31549994],\n",
       "         [0.05980666],\n",
       "         [0.05980666],\n",
       "         [0.54951727],\n",
       "         [0.54951727],\n",
       "         [0.04257387],\n",
       "         [0.04257387],\n",
       "         [0.1328797 ],\n",
       "         [0.1328797 ],\n",
       "         [0.37126515],\n",
       "         [0.37126515],\n",
       "         [0.0680068 ],\n",
       "         [0.0680068 ],\n",
       "         [0.76359323],\n",
       "         [0.76359323],\n",
       "         [0.57596343],\n",
       "         [0.57596343],\n",
       "         [0.69236356],\n",
       "         [0.69236356],\n",
       "         [0.67611269],\n",
       "         [0.67611269],\n",
       "         [0.39441265],\n",
       "         [0.39441265],\n",
       "         [0.40364584],\n",
       "         [0.40364584],\n",
       "         [0.81344735],\n",
       "         [0.81344735],\n",
       "         [0.83416295],\n",
       "         [0.83416295],\n",
       "         [0.15131725],\n",
       "         [0.15131725],\n",
       "         [0.41471438],\n",
       "         [0.41471438],\n",
       "         [0.49256913],\n",
       "         [0.49256913],\n",
       "         [0.0586735 ],\n",
       "         [0.0586735 ],\n",
       "         [0.02713353],\n",
       "         [0.02713353],\n",
       "         [0.93182181],\n",
       "         [0.93182181],\n",
       "         [0.96193349],\n",
       "         [0.96193349],\n",
       "         [0.86170933],\n",
       "         [0.86170933],\n",
       "         [0.84506618],\n",
       "         [0.84506618],\n",
       "         [0.07820101],\n",
       "         [0.07820101],\n",
       "         [0.69909618],\n",
       "         [0.69909618],\n",
       "         [0.0442306 ],\n",
       "         [0.0442306 ],\n",
       "         [0.56948824],\n",
       "         [0.56948824],\n",
       "         [0.81634413],\n",
       "         [0.81634413],\n",
       "         [0.57204688],\n",
       "         [0.57204688],\n",
       "         [0.738046  ],\n",
       "         [0.738046  ],\n",
       "         [0.87646812],\n",
       "         [0.87646812],\n",
       "         [0.77324257],\n",
       "         [0.77324257],\n",
       "         [0.29139084],\n",
       "         [0.29139084],\n",
       "         [0.94180086],\n",
       "         [0.94180086],\n",
       "         [0.08585138],\n",
       "         [0.08585138],\n",
       "         [0.23763593],\n",
       "         [0.23763593],\n",
       "         [0.56366381],\n",
       "         [0.56366381],\n",
       "         [0.7676264 ],\n",
       "         [0.7676264 ],\n",
       "         [0.73509408],\n",
       "         [0.73509408],\n",
       "         [0.85979783],\n",
       "         [0.85979783],\n",
       "         [0.16066389],\n",
       "         [0.16066389],\n",
       "         [0.81265637],\n",
       "         [0.81265637],\n",
       "         [0.3709554 ],\n",
       "         [0.3709554 ],\n",
       "         [0.14167215],\n",
       "         [0.14167215],\n",
       "         [0.17488382],\n",
       "         [0.17488382],\n",
       "         [0.39821446],\n",
       "         [0.39821446],\n",
       "         [0.55413006],\n",
       "         [0.55413006],\n",
       "         [0.64548058],\n",
       "         [0.64548058],\n",
       "         [0.95338616],\n",
       "         [0.95338616],\n",
       "         [0.95926689],\n",
       "         [0.95926689],\n",
       "         [0.74427526],\n",
       "         [0.74427526],\n",
       "         [0.09865891],\n",
       "         [0.09865891],\n",
       "         [0.85315726],\n",
       "         [0.85315726],\n",
       "         [0.49854873],\n",
       "         [0.49854873],\n",
       "         [0.93990852],\n",
       "         [0.93990852],\n",
       "         [0.87276243],\n",
       "         [0.87276243],\n",
       "         [0.92678265],\n",
       "         [0.92678265],\n",
       "         [0.48643342],\n",
       "         [0.48643342],\n",
       "         [0.33177604],\n",
       "         [0.33177604],\n",
       "         [0.03275152],\n",
       "         [0.03275152],\n",
       "         [0.05266079],\n",
       "         [0.05266079],\n",
       "         [0.52808652],\n",
       "         [0.52808652],\n",
       "         [0.00662162],\n",
       "         [0.00662162],\n",
       "         [0.22305826],\n",
       "         [0.22305826],\n",
       "         [0.67736231],\n",
       "         [0.67736231],\n",
       "         [0.80358877],\n",
       "         [0.80358877],\n",
       "         [0.36993121],\n",
       "         [0.36993121],\n",
       "         [0.72659089],\n",
       "         [0.72659089],\n",
       "         [0.51389366],\n",
       "         [0.51389366],\n",
       "         [0.56124632],\n",
       "         [0.56124632],\n",
       "         [0.60213775],\n",
       "         [0.60213775],\n",
       "         [0.46786119],\n",
       "         [0.46786119],\n",
       "         [0.86211698],\n",
       "         [0.86211698],\n",
       "         [0.56882071],\n",
       "         [0.56882071],\n",
       "         [0.54902093],\n",
       "         [0.54902093],\n",
       "         [0.06768722],\n",
       "         [0.06768722],\n",
       "         [0.16013289],\n",
       "         [0.16013289],\n",
       "         [0.66872992],\n",
       "         [0.66872992],\n",
       "         [0.43202972],\n",
       "         [0.43202972],\n",
       "         [0.96187409],\n",
       "         [0.96187409],\n",
       "         [0.75014691],\n",
       "         [0.75014691],\n",
       "         [0.45548456],\n",
       "         [0.45548456],\n",
       "         [0.40833378],\n",
       "         [0.40833378],\n",
       "         [0.32782743],\n",
       "         [0.32782743],\n",
       "         [0.97971727],\n",
       "         [0.97971727],\n",
       "         [0.31157718],\n",
       "         [0.31157718],\n",
       "         [0.8420531 ],\n",
       "         [0.8420531 ],\n",
       "         [0.54237728],\n",
       "         [0.54237728],\n",
       "         [0.14672673],\n",
       "         [0.14672673],\n",
       "         [0.77180049],\n",
       "         [0.77180049],\n",
       "         [0.94806655],\n",
       "         [0.94806655],\n",
       "         [0.94919986],\n",
       "         [0.94919986],\n",
       "         [0.97842741],\n",
       "         [0.97842741],\n",
       "         [0.64566101],\n",
       "         [0.64566101],\n",
       "         [0.54698049],\n",
       "         [0.54698049]])}}"
      ]
     },
     "execution_count": 12,
     "metadata": {},
     "output_type": "execute_result"
    }
   ],
   "source": [
    "ds = load_by_id(run_id_a)\n",
    "ds.get_parameter_data('x1')"
   ]
  },
  {
   "cell_type": "code",
   "execution_count": null,
   "metadata": {},
   "outputs": [],
   "source": []
  }
 ],
 "metadata": {
  "kernelspec": {
   "display_name": "Python 3",
   "language": "python",
   "name": "python3"
  },
  "language_info": {
   "codemirror_mode": {
    "name": "ipython",
    "version": 3
   },
   "file_extension": ".py",
   "mimetype": "text/x-python",
   "name": "python",
   "nbconvert_exporter": "python",
   "pygments_lexer": "ipython3",
   "version": "3.7.12"
  },
  "nbsphinx": {
   "timeout": 600
  },
  "toc": {
   "base_numbering": 1,
   "nav_menu": {},
   "number_sections": true,
   "sideBar": true,
   "skip_h1_title": false,
   "title_cell": "Table of Contents",
   "title_sidebar": "Contents",
   "toc_cell": false,
   "toc_position": {},
   "toc_section_display": true,
   "toc_window_display": false
  },
  "varInspector": {
   "cols": {
    "lenName": 16,
    "lenType": 16,
    "lenVar": 40
   },
   "kernels_config": {
    "python": {
     "delete_cmd_postfix": "",
     "delete_cmd_prefix": "del ",
     "library": "var_list.py",
     "varRefreshCmd": "print(var_dic_list())"
    },
    "r": {
     "delete_cmd_postfix": ") ",
     "delete_cmd_prefix": "rm(",
     "library": "var_list.r",
     "varRefreshCmd": "cat(var_dic_list()) "
    }
   },
   "types_to_exclude": [
    "module",
    "function",
    "builtin_function_or_method",
    "instance",
    "_Feature"
   ],
   "window_display": false
  }
 },
 "nbformat": 4,
 "nbformat_minor": 4
}
