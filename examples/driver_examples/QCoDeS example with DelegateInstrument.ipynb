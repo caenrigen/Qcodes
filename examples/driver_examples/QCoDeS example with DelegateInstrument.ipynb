{
 "cells": [
  {
   "cell_type": "markdown",
   "id": "plain-primary",
   "metadata": {},
   "source": [
    "# Qcodes example with DelegateInstrument driver\n",
    "\n",
    "This notebooks explains how to use the `DelegateInstrument` driver.\n",
    "\n",
    "## About\n",
    "The goal of the `DelegateInstrument` driver is to make it easier to combine different parameters together into a new \"virtual\" instrument. Each parameter on a `DelegateInstrument` can point to one or more parameters on other instruments in the station.\n",
    "\n",
    "## Usage\n",
    "The way it's used is mainly by specifying an entry in the station YAML. For instance, let's say you want to use a magnetic field coil. The driver has a method set_field(value, block), that by default is set to block=True, which means the field is ramped in a way that blocks further execution until the desired value is reached. However, let's say you are creating a measurement in which you want the parameter to be set, and while the value is ramping, you want to measure other parameters. This can be done by using `DelegateInstrument` and specifying a custom `setter` for the parameter that gets and sets the magnetic field.\n",
    "\n",
    "By default, each parameter is represented by a `DelegateParameter`. The `DelegateInstrument` also supports passing multiple source parameters to a given parameter. In order to do this, simply specify multiple parameters in the dictionary values  under the `parameters` key.\n",
    "\n",
    "It can also add instrument channels, specified under a separate key `channels`, shown in the second half of the notebook."
   ]
  },
  {
   "cell_type": "code",
   "execution_count": 1,
   "id": "sapphire-quebec",
   "metadata": {
    "execution": {
     "iopub.execute_input": "2021-10-31T20:35:30.029775Z",
     "iopub.status.busy": "2021-10-31T20:35:30.029071Z",
     "iopub.status.idle": "2021-10-31T20:35:30.040148Z",
     "shell.execute_reply": "2021-10-31T20:35:30.040739Z"
    }
   },
   "outputs": [
    {
     "name": "stdout",
     "output_type": "stream",
     "text": [
      "Writing example.yaml\n"
     ]
    }
   ],
   "source": [
    "%%writefile example.yaml\n",
    "\n",
    "instruments:\n",
    "  field_X:\n",
    "    type: qcodes.tests.instrument_mocks.MockField\n",
    "\n",
    "  field:\n",
    "    type: qcodes.instrument.delegate.DelegateInstrument\n",
    "    init:\n",
    "      parameters:\n",
    "        X:\n",
    "          - field_X.field\n",
    "        ramp_rate:\n",
    "          - field_X.ramp_rate\n",
    "        combined:\n",
    "          - field_X.field\n",
    "          - field_X.ramp_rate\n",
    "      set_initial_values_on_load: true\n",
    "      initial_values:\n",
    "        ramp_rate: 1.0\n",
    "      setters:\n",
    "        X:\n",
    "          method: field_X.set_field\n",
    "          block: false"
   ]
  },
  {
   "cell_type": "code",
   "execution_count": 2,
   "id": "younger-newspaper",
   "metadata": {
    "execution": {
     "iopub.execute_input": "2021-10-31T20:35:30.045020Z",
     "iopub.status.busy": "2021-10-31T20:35:30.044311Z",
     "iopub.status.idle": "2021-10-31T20:35:31.408907Z",
     "shell.execute_reply": "2021-10-31T20:35:31.408296Z"
    }
   },
   "outputs": [
    {
     "name": "stdout",
     "output_type": "stream",
     "text": [
      "Logging hadn't been started.\n",
      "Activating auto-logging. Current session state plus future input saved.\n",
      "Filename       : /home/runner/.qcodes/logs/command_history.log\n",
      "Mode           : append\n",
      "Output logging : True\n",
      "Raw input log  : False\n",
      "Timestamping   : True\n",
      "State          : active\n"
     ]
    },
    {
     "name": "stdout",
     "output_type": "stream",
     "text": [
      "Qcodes Logfile : /home/runner/.qcodes/logs/211031-10098-qcodes.log\n"
     ]
    }
   ],
   "source": [
    "import qcodes as qc"
   ]
  },
  {
   "cell_type": "code",
   "execution_count": 3,
   "id": "muslim-briefs",
   "metadata": {
    "execution": {
     "iopub.execute_input": "2021-10-31T20:35:31.414195Z",
     "iopub.status.busy": "2021-10-31T20:35:31.413540Z",
     "iopub.status.idle": "2021-10-31T20:35:31.439905Z",
     "shell.execute_reply": "2021-10-31T20:35:31.440392Z"
    }
   },
   "outputs": [],
   "source": [
    "station = qc.Station(config_file=\"example.yaml\")"
   ]
  },
  {
   "cell_type": "code",
   "execution_count": 4,
   "id": "greatest-antenna",
   "metadata": {
    "execution": {
     "iopub.execute_input": "2021-10-31T20:35:31.444725Z",
     "iopub.status.busy": "2021-10-31T20:35:31.444042Z",
     "iopub.status.idle": "2021-10-31T20:35:31.491661Z",
     "shell.execute_reply": "2021-10-31T20:35:31.492178Z"
    }
   },
   "outputs": [],
   "source": [
    "field_X = station.load_field_X()\n",
    "field = station.load_field(station=station)"
   ]
  },
  {
   "cell_type": "code",
   "execution_count": 5,
   "id": "every-playing",
   "metadata": {
    "execution": {
     "iopub.execute_input": "2021-10-31T20:35:31.503609Z",
     "iopub.status.busy": "2021-10-31T20:35:31.503006Z",
     "iopub.status.idle": "2021-10-31T20:35:31.505811Z",
     "shell.execute_reply": "2021-10-31T20:35:31.506306Z"
    }
   },
   "outputs": [
    {
     "data": {
      "text/plain": [
       "0.0"
      ]
     },
     "execution_count": 5,
     "metadata": {},
     "output_type": "execute_result"
    }
   ],
   "source": [
    "field.X()"
   ]
  },
  {
   "cell_type": "code",
   "execution_count": 6,
   "id": "undefined-worst",
   "metadata": {
    "execution": {
     "iopub.execute_input": "2021-10-31T20:35:31.509345Z",
     "iopub.status.busy": "2021-10-31T20:35:31.508707Z",
     "iopub.status.idle": "2021-10-31T20:35:31.512966Z",
     "shell.execute_reply": "2021-10-31T20:35:31.512415Z"
    }
   },
   "outputs": [],
   "source": [
    "field.X(1.)"
   ]
  },
  {
   "cell_type": "code",
   "execution_count": 7,
   "id": "recreational-suggestion",
   "metadata": {
    "execution": {
     "iopub.execute_input": "2021-10-31T20:35:31.517342Z",
     "iopub.status.busy": "2021-10-31T20:35:31.516742Z",
     "iopub.status.idle": "2021-10-31T20:35:31.519314Z",
     "shell.execute_reply": "2021-10-31T20:35:31.519799Z"
    }
   },
   "outputs": [
    {
     "data": {
      "text/plain": [
       "9.725093841552734e-05"
      ]
     },
     "execution_count": 7,
     "metadata": {},
     "output_type": "execute_result"
    }
   ],
   "source": [
    "field.X()"
   ]
  },
  {
   "cell_type": "code",
   "execution_count": 8,
   "id": "adopted-exchange",
   "metadata": {
    "execution": {
     "iopub.execute_input": "2021-10-31T20:35:31.522825Z",
     "iopub.status.busy": "2021-10-31T20:35:31.522231Z",
     "iopub.status.idle": "2021-10-31T20:35:31.527137Z",
     "shell.execute_reply": "2021-10-31T20:35:31.527633Z"
    }
   },
   "outputs": [
    {
     "data": {
      "text/plain": [
       "0.00022195577621459962"
      ]
     },
     "execution_count": 8,
     "metadata": {},
     "output_type": "execute_result"
    }
   ],
   "source": [
    "field.X()"
   ]
  },
  {
   "cell_type": "code",
   "execution_count": 9,
   "id": "bound-broadcasting",
   "metadata": {
    "execution": {
     "iopub.execute_input": "2021-10-31T20:35:31.532169Z",
     "iopub.status.busy": "2021-10-31T20:35:31.531436Z",
     "iopub.status.idle": "2021-10-31T20:35:31.534196Z",
     "shell.execute_reply": "2021-10-31T20:35:31.534693Z"
    }
   },
   "outputs": [
    {
     "data": {
      "text/plain": [
       "0.0003422419230143229"
      ]
     },
     "execution_count": 9,
     "metadata": {},
     "output_type": "execute_result"
    }
   ],
   "source": [
    "field.X()"
   ]
  },
  {
   "cell_type": "code",
   "execution_count": 10,
   "id": "casual-ghost",
   "metadata": {
    "execution": {
     "iopub.execute_input": "2021-10-31T20:35:31.537576Z",
     "iopub.status.busy": "2021-10-31T20:35:31.536975Z",
     "iopub.status.idle": "2021-10-31T20:35:31.541895Z",
     "shell.execute_reply": "2021-10-31T20:35:31.542982Z"
    }
   },
   "outputs": [
    {
     "data": {
      "text/plain": [
       "0.0004688382148742676"
      ]
     },
     "execution_count": 10,
     "metadata": {},
     "output_type": "execute_result"
    }
   ],
   "source": [
    "field.X()"
   ]
  },
  {
   "cell_type": "markdown",
   "id": "alike-process",
   "metadata": {},
   "source": [
    "As you can see, the field is now ramped in the background with the specified ramp rate. Now, let's try to create a measurement that uses this ability, and ramps the field in the background while measuring:"
   ]
  },
  {
   "cell_type": "code",
   "execution_count": 11,
   "id": "sustained-tiger",
   "metadata": {
    "execution": {
     "iopub.execute_input": "2021-10-31T20:35:31.547108Z",
     "iopub.status.busy": "2021-10-31T20:35:31.546506Z",
     "iopub.status.idle": "2021-10-31T20:35:31.551706Z",
     "shell.execute_reply": "2021-10-31T20:35:31.552281Z"
    }
   },
   "outputs": [],
   "source": [
    "field.ramp_rate(10.)\n",
    "field_X.field(0.0)"
   ]
  },
  {
   "cell_type": "code",
   "execution_count": 12,
   "id": "pharmaceutical-partition",
   "metadata": {
    "execution": {
     "iopub.execute_input": "2021-10-31T20:35:31.557360Z",
     "iopub.status.busy": "2021-10-31T20:35:31.555251Z",
     "iopub.status.idle": "2021-10-31T20:35:31.560078Z",
     "shell.execute_reply": "2021-10-31T20:35:31.560590Z"
    }
   },
   "outputs": [
    {
     "data": {
      "text/plain": [
       "0.0"
      ]
     },
     "execution_count": 12,
     "metadata": {},
     "output_type": "execute_result"
    }
   ],
   "source": [
    "field.X()"
   ]
  },
  {
   "cell_type": "code",
   "execution_count": 13,
   "id": "happy-ordinance",
   "metadata": {
    "execution": {
     "iopub.execute_input": "2021-10-31T20:35:31.566312Z",
     "iopub.status.busy": "2021-10-31T20:35:31.564980Z",
     "iopub.status.idle": "2021-10-31T20:35:32.802717Z",
     "shell.execute_reply": "2021-10-31T20:35:32.803348Z"
    }
   },
   "outputs": [
    {
     "name": "stdout",
     "output_type": "stream",
     "text": [
      "Starting experimental run with id: 61. \n"
     ]
    }
   ],
   "source": [
    "import time\n",
    "meas = qc.Measurement(station=station)\n",
    "meas.register_parameter(field.X)\n",
    "\n",
    "with meas.run() as datasaver:\n",
    "    for B in [0.1, 0.0]:\n",
    "        field.X(B)\n",
    "        while field.X() != B:\n",
    "            datasaver.add_result((field.X, field.X()))\n",
    "            time.sleep(0.01)\n",
    "    datasaver.flush_data_to_database()"
   ]
  },
  {
   "cell_type": "code",
   "execution_count": 14,
   "id": "short-medium",
   "metadata": {
    "execution": {
     "iopub.execute_input": "2021-10-31T20:35:32.808782Z",
     "iopub.status.busy": "2021-10-31T20:35:32.807804Z",
     "iopub.status.idle": "2021-10-31T20:35:33.324980Z",
     "shell.execute_reply": "2021-10-31T20:35:33.325796Z"
    }
   },
   "outputs": [
    {
     "data": {
      "text/plain": [
       "<AxesSubplot:>"
      ]
     },
     "execution_count": 14,
     "metadata": {},
     "output_type": "execute_result"
    },
    {
     "data": {
      "image/png": "[encoded data removed]",
      "text/plain": [
       "<Figure size 432x288 with 1 Axes>"
      ]
     },
     "metadata": {
      "needs_background": "light"
     },
     "output_type": "display_data"
    }
   ],
   "source": [
    "datasaver.dataset.to_pandas_dataframe().plot()"
   ]
  },
  {
   "cell_type": "markdown",
   "id": "incomplete-vietnamese",
   "metadata": {},
   "source": [
    "When specifying multiple source parameters on a given parameter, the grouped parameter will automatically return a `namedtuple` that returns both values."
   ]
  },
  {
   "cell_type": "code",
   "execution_count": 15,
   "id": "dangerous-finder",
   "metadata": {
    "execution": {
     "iopub.execute_input": "2021-10-31T20:35:33.331600Z",
     "iopub.status.busy": "2021-10-31T20:35:33.330940Z",
     "iopub.status.idle": "2021-10-31T20:35:33.336683Z",
     "shell.execute_reply": "2021-10-31T20:35:33.337231Z"
    }
   },
   "outputs": [
    {
     "data": {
      "text/plain": [
       "combined(field=0.0, ramp_rate=10.0)"
      ]
     },
     "execution_count": 15,
     "metadata": {},
     "output_type": "execute_result"
    }
   ],
   "source": [
    "field.combined()"
   ]
  },
  {
   "cell_type": "markdown",
   "id": "consolidated-cooper",
   "metadata": {},
   "source": [
    "We can now also create a custom parameter that does a simple calculation based on the current parameters."
   ]
  },
  {
   "cell_type": "code",
   "execution_count": 16,
   "id": "designed-bloom",
   "metadata": {
    "execution": {
     "iopub.execute_input": "2021-10-31T20:35:33.343112Z",
     "iopub.status.busy": "2021-10-31T20:35:33.342482Z",
     "iopub.status.idle": "2021-10-31T20:35:33.346586Z",
     "shell.execute_reply": "2021-10-31T20:35:33.345737Z"
    }
   },
   "outputs": [],
   "source": [
    "import numpy as np\n",
    "\n",
    "def calculate_ramp_time(X, ramp_rate):\n",
    "    \"\"\"Calculate ramp time in seconds\"\"\"\n",
    "    dfield = np.abs(field.target_field - X)\n",
    "    return 60. * dfield/ramp_rate"
   ]
  },
  {
   "cell_type": "code",
   "execution_count": 17,
   "id": "disabled-logic",
   "metadata": {
    "execution": {
     "iopub.execute_input": "2021-10-31T20:35:33.352842Z",
     "iopub.status.busy": "2021-10-31T20:35:33.351338Z",
     "iopub.status.idle": "2021-10-31T20:35:33.353545Z",
     "shell.execute_reply": "2021-10-31T20:35:33.354055Z"
    },
    "scrolled": true
   },
   "outputs": [],
   "source": [
    "field._create_and_add_parameter(\n",
    "    group_name=\"ramp_time\",\n",
    "    station=station,\n",
    "    paths=[\"field_X.field\", \"field_X.ramp_rate\"],\n",
    "    formatter=calculate_ramp_time\n",
    ")"
   ]
  },
  {
   "cell_type": "code",
   "execution_count": 18,
   "id": "adverse-february",
   "metadata": {
    "execution": {
     "iopub.execute_input": "2021-10-31T20:35:33.360559Z",
     "iopub.status.busy": "2021-10-31T20:35:33.359625Z",
     "iopub.status.idle": "2021-10-31T20:35:33.363385Z",
     "shell.execute_reply": "2021-10-31T20:35:33.363914Z"
    }
   },
   "outputs": [
    {
     "data": {
      "text/plain": [
       "6.0"
      ]
     },
     "execution_count": 18,
     "metadata": {},
     "output_type": "execute_result"
    }
   ],
   "source": [
    "field.ramp_rate(1.0)\n",
    "field.target_field = 0.1\n",
    "field.ramp_time()"
   ]
  },
  {
   "cell_type": "code",
   "execution_count": 19,
   "id": "statutory-xerox",
   "metadata": {
    "execution": {
     "iopub.execute_input": "2021-10-31T20:35:33.368182Z",
     "iopub.status.busy": "2021-10-31T20:35:33.367548Z",
     "iopub.status.idle": "2021-10-31T20:35:33.370805Z",
     "shell.execute_reply": "2021-10-31T20:35:33.370150Z"
    }
   },
   "outputs": [],
   "source": [
    "field.X(0.1)"
   ]
  },
  {
   "cell_type": "code",
   "execution_count": 20,
   "id": "varying-auditor",
   "metadata": {
    "execution": {
     "iopub.execute_input": "2021-10-31T20:35:33.377570Z",
     "iopub.status.busy": "2021-10-31T20:35:33.376381Z",
     "iopub.status.idle": "2021-10-31T20:35:33.380934Z",
     "shell.execute_reply": "2021-10-31T20:35:33.380362Z"
    }
   },
   "outputs": [
    {
     "data": {
      "text/plain": [
       "5.993072748184204"
      ]
     },
     "execution_count": 20,
     "metadata": {},
     "output_type": "execute_result"
    }
   ],
   "source": [
    "field.ramp_time()"
   ]
  },
  {
   "cell_type": "code",
   "execution_count": 21,
   "id": "chubby-nickel",
   "metadata": {
    "execution": {
     "iopub.execute_input": "2021-10-31T20:35:33.384783Z",
     "iopub.status.busy": "2021-10-31T20:35:33.384115Z",
     "iopub.status.idle": "2021-10-31T20:35:34.389396Z",
     "shell.execute_reply": "2021-10-31T20:35:34.389997Z"
    }
   },
   "outputs": [
    {
     "data": {
      "text/plain": [
       "4.981642961502076"
      ]
     },
     "execution_count": 21,
     "metadata": {},
     "output_type": "execute_result"
    }
   ],
   "source": [
    "import time\n",
    "time.sleep(1.)\n",
    "field.ramp_time()"
   ]
  },
  {
   "cell_type": "code",
   "execution_count": 22,
   "id": "italian-liberty",
   "metadata": {
    "execution": {
     "iopub.execute_input": "2021-10-31T20:35:34.394304Z",
     "iopub.status.busy": "2021-10-31T20:35:34.392583Z",
     "iopub.status.idle": "2021-10-31T20:35:35.402755Z",
     "shell.execute_reply": "2021-10-31T20:35:35.402040Z"
    }
   },
   "outputs": [
    {
     "data": {
      "text/plain": [
       "3.971419095993042"
      ]
     },
     "execution_count": 22,
     "metadata": {},
     "output_type": "execute_result"
    }
   ],
   "source": [
    "import time\n",
    "time.sleep(1.)\n",
    "field.ramp_time()"
   ]
  },
  {
   "cell_type": "markdown",
   "id": "0704d2e7",
   "metadata": {},
   "source": [
    "# Devices with channels"
   ]
  },
  {
   "cell_type": "markdown",
   "id": "c00bda37",
   "metadata": {},
   "source": [
    "The YAML file below specifies the instruments with the channels/parameters we wish to group into a new instrument, here called \"device\". The first example simply adds the channel 'as is' using self.add_submodule, while the readout parameter is added as a DelegateParameter."
   ]
  },
  {
   "cell_type": "code",
   "execution_count": 23,
   "id": "0d97d69f",
   "metadata": {
    "execution": {
     "iopub.execute_input": "2021-10-31T20:35:35.406095Z",
     "iopub.status.busy": "2021-10-31T20:35:35.405439Z",
     "iopub.status.idle": "2021-10-31T20:35:35.410766Z",
     "shell.execute_reply": "2021-10-31T20:35:35.411300Z"
    }
   },
   "outputs": [
    {
     "name": "stdout",
     "output_type": "stream",
     "text": [
      "Overwriting example.yaml\n"
     ]
    }
   ],
   "source": [
    "%%writefile example.yaml\n",
    "\n",
    "instruments:\n",
    "  lockin:\n",
    "    type: qcodes.tests.instrument_mocks.MockLockin\n",
    "\n",
    "  dac:\n",
    "    type: qcodes.tests.instrument_mocks.MockDAC   \n",
    "\n",
    "  device:\n",
    "    type: qcodes.instrument.delegate.DelegateInstrument\n",
    "    init:\n",
    "      parameters:\n",
    "        readout: lockin.X\n",
    "      channels:\n",
    "        gate_1: dac.ch01\n",
    "      set_initial_values_on_load: true\n",
    "      initial_values:\n",
    "        readout: 1e-5\n",
    "        gate_1.voltage.post_delay: 0.01"
   ]
  },
  {
   "cell_type": "code",
   "execution_count": 24,
   "id": "8fdd57b9",
   "metadata": {
    "execution": {
     "iopub.execute_input": "2021-10-31T20:35:35.415694Z",
     "iopub.status.busy": "2021-10-31T20:35:35.415033Z",
     "iopub.status.idle": "2021-10-31T20:35:35.439684Z",
     "shell.execute_reply": "2021-10-31T20:35:35.440200Z"
    }
   },
   "outputs": [],
   "source": [
    "station = qc.Station(config_file=\"example.yaml\")"
   ]
  },
  {
   "cell_type": "code",
   "execution_count": 25,
   "id": "b3ccabe6",
   "metadata": {
    "execution": {
     "iopub.execute_input": "2021-10-31T20:35:35.449594Z",
     "iopub.status.busy": "2021-10-31T20:35:35.445393Z",
     "iopub.status.idle": "2021-10-31T20:35:35.519575Z",
     "shell.execute_reply": "2021-10-31T20:35:35.520114Z"
    }
   },
   "outputs": [],
   "source": [
    "lockin = station.load_lockin()\n",
    "dac = station.load_dac()\n",
    "device = station.load_device(station=station)"
   ]
  },
  {
   "cell_type": "code",
   "execution_count": 26,
   "id": "44b03ea5",
   "metadata": {
    "execution": {
     "iopub.execute_input": "2021-10-31T20:35:35.527201Z",
     "iopub.status.busy": "2021-10-31T20:35:35.525485Z",
     "iopub.status.idle": "2021-10-31T20:35:35.529751Z",
     "shell.execute_reply": "2021-10-31T20:35:35.529179Z"
    }
   },
   "outputs": [
    {
     "name": "stdout",
     "output_type": "stream",
     "text": [
      "<MockDACChannel: dac_ch01 of MockDAC: dac>\n",
      "0.01\n"
     ]
    }
   ],
   "source": [
    "print(device.gate_1)\n",
    "print(device.gate_1.voltage.post_delay)"
   ]
  },
  {
   "cell_type": "code",
   "execution_count": 27,
   "id": "7d764dc3",
   "metadata": {
    "execution": {
     "iopub.execute_input": "2021-10-31T20:35:35.534418Z",
     "iopub.status.busy": "2021-10-31T20:35:35.533671Z",
     "iopub.status.idle": "2021-10-31T20:35:35.552488Z",
     "shell.execute_reply": "2021-10-31T20:35:35.553029Z"
    }
   },
   "outputs": [
    {
     "name": "stdout",
     "output_type": "stream",
     "text": [
      "0.0\n"
     ]
    },
    {
     "data": {
      "text/plain": [
       "-0.6"
      ]
     },
     "execution_count": 27,
     "metadata": {},
     "output_type": "execute_result"
    }
   ],
   "source": [
    "print(device.gate_1.voltage())\n",
    "device.gate_1.voltage(-0.6)\n",
    "device.gate_1.voltage()"
   ]
  },
  {
   "cell_type": "markdown",
   "id": "8e4a3ecb",
   "metadata": {},
   "source": [
    "The second example adds a channel using a custom channel class, which takes the initial channel and its name as input and has a parameter current_valid_ranges."
   ]
  },
  {
   "cell_type": "code",
   "execution_count": 28,
   "id": "29a25c20",
   "metadata": {
    "execution": {
     "iopub.execute_input": "2021-10-31T20:35:35.560331Z",
     "iopub.status.busy": "2021-10-31T20:35:35.558711Z",
     "iopub.status.idle": "2021-10-31T20:35:35.562806Z",
     "shell.execute_reply": "2021-10-31T20:35:35.562230Z"
    }
   },
   "outputs": [
    {
     "name": "stdout",
     "output_type": "stream",
     "text": [
      "Overwriting example.yaml\n"
     ]
    }
   ],
   "source": [
    "%%writefile example.yaml\n",
    "\n",
    "instruments:\n",
    "  lockin:\n",
    "    type: qcodes.tests.instrument_mocks.MockLockin\n",
    "\n",
    "  dac:\n",
    "    type: qcodes.tests.instrument_mocks.MockDAC   \n",
    "\n",
    "  device:\n",
    "    type: qcodes.instrument.delegate.DelegateInstrument\n",
    "    init:\n",
    "      parameters:\n",
    "        readout: lockin.X\n",
    "      channels:\n",
    "        type: qcodes.tests.instrument_mocks.MockCustomChannel\n",
    "        gate_1: \n",
    "          channel: dac.ch01\n",
    "          current_valid_range: [-0.5, 0]\n",
    "      set_initial_values_on_load: true\n",
    "      initial_values:\n",
    "        readout: 1e-5"
   ]
  },
  {
   "cell_type": "code",
   "execution_count": 29,
   "id": "9c44f30e",
   "metadata": {
    "execution": {
     "iopub.execute_input": "2021-10-31T20:35:35.567421Z",
     "iopub.status.busy": "2021-10-31T20:35:35.566769Z",
     "iopub.status.idle": "2021-10-31T20:35:35.569503Z",
     "shell.execute_reply": "2021-10-31T20:35:35.568927Z"
    }
   },
   "outputs": [],
   "source": [
    "lockin.close()\n",
    "dac.close()"
   ]
  },
  {
   "cell_type": "code",
   "execution_count": 30,
   "id": "bd591bab",
   "metadata": {
    "execution": {
     "iopub.execute_input": "2021-10-31T20:35:35.573832Z",
     "iopub.status.busy": "2021-10-31T20:35:35.573180Z",
     "iopub.status.idle": "2021-10-31T20:35:35.651481Z",
     "shell.execute_reply": "2021-10-31T20:35:35.650874Z"
    }
   },
   "outputs": [],
   "source": [
    "station = qc.Station(config_file=\"example.yaml\")\n",
    "lockin = station.load_lockin()\n",
    "dac = station.load_dac()"
   ]
  },
  {
   "cell_type": "code",
   "execution_count": 31,
   "id": "a0e45912",
   "metadata": {
    "execution": {
     "iopub.execute_input": "2021-10-31T20:35:35.656054Z",
     "iopub.status.busy": "2021-10-31T20:35:35.655317Z",
     "iopub.status.idle": "2021-10-31T20:35:35.681419Z",
     "shell.execute_reply": "2021-10-31T20:35:35.681970Z"
    }
   },
   "outputs": [],
   "source": [
    "device = station.load_device(station=station)"
   ]
  },
  {
   "cell_type": "code",
   "execution_count": 32,
   "id": "b13c88c5",
   "metadata": {
    "execution": {
     "iopub.execute_input": "2021-10-31T20:35:35.688602Z",
     "iopub.status.busy": "2021-10-31T20:35:35.687402Z",
     "iopub.status.idle": "2021-10-31T20:35:35.691046Z",
     "shell.execute_reply": "2021-10-31T20:35:35.691583Z"
    }
   },
   "outputs": [
    {
     "data": {
      "text/plain": [
       "<MockCustomChannel: dac_gate_1 of MockDAC: dac>"
      ]
     },
     "execution_count": 32,
     "metadata": {},
     "output_type": "execute_result"
    }
   ],
   "source": [
    "device.gate_1"
   ]
  },
  {
   "cell_type": "code",
   "execution_count": 33,
   "id": "6b58df9c",
   "metadata": {
    "execution": {
     "iopub.execute_input": "2021-10-31T20:35:35.695946Z",
     "iopub.status.busy": "2021-10-31T20:35:35.695290Z",
     "iopub.status.idle": "2021-10-31T20:35:35.697719Z",
     "shell.execute_reply": "2021-10-31T20:35:35.698226Z"
    }
   },
   "outputs": [],
   "source": [
    "device.gate_1.voltage(-0.3)"
   ]
  },
  {
   "cell_type": "code",
   "execution_count": 34,
   "id": "095af062",
   "metadata": {
    "execution": {
     "iopub.execute_input": "2021-10-31T20:35:35.704786Z",
     "iopub.status.busy": "2021-10-31T20:35:35.703302Z",
     "iopub.status.idle": "2021-10-31T20:35:35.707486Z",
     "shell.execute_reply": "2021-10-31T20:35:35.706899Z"
    }
   },
   "outputs": [
    {
     "data": {
      "text/plain": [
       "-0.3"
      ]
     },
     "execution_count": 34,
     "metadata": {},
     "output_type": "execute_result"
    }
   ],
   "source": [
    "device.gate_1.voltage()"
   ]
  },
  {
   "cell_type": "markdown",
   "id": "db76775c",
   "metadata": {},
   "source": [
    "The MockCustomChannel has a parameter `current_valid_range`."
   ]
  },
  {
   "cell_type": "code",
   "execution_count": 35,
   "id": "d5e3123d",
   "metadata": {
    "execution": {
     "iopub.execute_input": "2021-10-31T20:35:35.714296Z",
     "iopub.status.busy": "2021-10-31T20:35:35.712859Z",
     "iopub.status.idle": "2021-10-31T20:35:35.717096Z",
     "shell.execute_reply": "2021-10-31T20:35:35.716431Z"
    }
   },
   "outputs": [
    {
     "data": {
      "text/plain": [
       "[-0.5, 0]"
      ]
     },
     "execution_count": 35,
     "metadata": {},
     "output_type": "execute_result"
    }
   ],
   "source": [
    "device.gate_1.current_valid_range()"
   ]
  }
 ],
 "metadata": {
  "kernelspec": {
   "display_name": "Python 3.7.9 64-bit ('qcodes_fork': conda)",
   "name": "python379jvsc74a57bd02b540bc2d5f6bd8c1d4c354bd6559a26f5871610d8f84463e1d37eff37c7ba44"
  },
  "language_info": {
   "codemirror_mode": {
    "name": "ipython",
    "version": 3
   },
   "file_extension": ".py",
   "mimetype": "text/x-python",
   "name": "python",
   "nbconvert_exporter": "python",
   "pygments_lexer": "ipython3",
   "version": "3.7.12"
  }
 },
 "nbformat": 4,
 "nbformat_minor": 5
}
